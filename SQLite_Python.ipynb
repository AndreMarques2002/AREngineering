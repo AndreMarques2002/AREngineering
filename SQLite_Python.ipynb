{
  "nbformat": 4,
  "nbformat_minor": 0,
  "metadata": {
    "colab": {
      "provenance": [],
      "authorship_tag": "ABX9TyNPjlosyZgvq0iH2wRXWYGw",
      "include_colab_link": true
    },
    "kernelspec": {
      "name": "python3",
      "display_name": "Python 3"
    },
    "language_info": {
      "name": "python"
    }
  },
  "cells": [
    {
      "cell_type": "markdown",
      "metadata": {
        "id": "view-in-github",
        "colab_type": "text"
      },
      "source": [
        "<a href=\"https://colab.research.google.com/github/AndreMarques2002/AREngineering/blob/main/SQLite_Python.ipynb\" target=\"_parent\"><img src=\"https://colab.research.google.com/assets/colab-badge.svg\" alt=\"Open In Colab\"/></a>"
      ]
    },
    {
      "cell_type": "markdown",
      "source": [
        "# **SQLite e Pthon**"
      ],
      "metadata": {
        "id": "YG59FPfRQviw"
      }
    },
    {
      "cell_type": "code",
      "source": [
        "import sqlite3 as sql"
      ],
      "metadata": {
        "id": "rb2FJP2tQvNX"
      },
      "execution_count": null,
      "outputs": []
    },
    {
      "cell_type": "code",
      "source": [
        "conexao = sql.connect('Database')\n",
        "\n",
        "cursor = conexao.cursor()"
      ],
      "metadata": {
        "id": "LNdY0VjNRD4P"
      },
      "execution_count": null,
      "outputs": []
    },
    {
      "cell_type": "markdown",
      "source": [
        "**CREATE TABLE**"
      ],
      "metadata": {
        "id": "c5PY9F1GRaZW"
      }
    },
    {
      "cell_type": "code",
      "source": [
        "cursor.execute(\n",
        "    'CREATE TABLE Tabela1 (Data text, Nome text, Idade real)'\n",
        ")\n",
        "\n",
        "conexao.commit()"
      ],
      "metadata": {
        "id": "6RLb10OYRdlW"
      },
      "execution_count": null,
      "outputs": []
    },
    {
      "cell_type": "code",
      "source": [
        "from google.colab import drive\n",
        "drive.mount('/content/drive')"
      ],
      "metadata": {
        "colab": {
          "base_uri": "https://localhost:8080/"
        },
        "id": "pb9jhQ1UaRrt",
        "outputId": "d2b4bf6a-fac3-4ac9-cd97-cb3b6cbdff27"
      },
      "execution_count": null,
      "outputs": [
        {
          "output_type": "stream",
          "name": "stdout",
          "text": [
            "Mounted at /content/drive\n"
          ]
        }
      ]
    },
    {
      "cell_type": "markdown",
      "source": [
        "**INSERT INTO**"
      ],
      "metadata": {
        "id": "XlC1Yi6cSIs3"
      }
    },
    {
      "cell_type": "code",
      "source": [
        "cursor.execute('INSERT INTO Tabela1 VALUES (\"01/01/2000\", \"João\", \"24\")')"
      ],
      "metadata": {
        "colab": {
          "base_uri": "https://localhost:8080/"
        },
        "id": "QwyFEiSSSL1v",
        "outputId": "62962ca6-d294-4fa9-bb0f-695155d911a7"
      },
      "execution_count": null,
      "outputs": [
        {
          "output_type": "execute_result",
          "data": {
            "text/plain": [
              "<sqlite3.Cursor at 0x7d4eae468840>"
            ]
          },
          "metadata": {},
          "execution_count": 7
        }
      ]
    },
    {
      "cell_type": "code",
      "source": [
        "import random"
      ],
      "metadata": {
        "id": "FwG7J6FYVfqV"
      },
      "execution_count": null,
      "outputs": []
    },
    {
      "cell_type": "code",
      "source": [
        "for Loop in range(10):\n",
        "  numero = random.randint(10, 20)\n",
        "  cursor.execute(f'INSERT INTO Tabela1 VALUES (\"01/01/2000\", \"João\", {numero})')"
      ],
      "metadata": {
        "id": "niL7zOBuW1Is"
      },
      "execution_count": null,
      "outputs": []
    },
    {
      "cell_type": "markdown",
      "source": [
        "**SELECT**"
      ],
      "metadata": {
        "id": "U-pIqk-yXNw8"
      }
    },
    {
      "cell_type": "code",
      "source": [
        "query1 = cursor.execute('SELECT Nome, Idade FROM Tabela1').fetchall()\n",
        "\n",
        "for line in query1:\n",
        "  print(line)"
      ],
      "metadata": {
        "colab": {
          "base_uri": "https://localhost:8080/"
        },
        "id": "4OCGe7dxXRR8",
        "outputId": "d752a476-5c7f-4306-84cb-6c4a66f47141"
      },
      "execution_count": null,
      "outputs": [
        {
          "output_type": "stream",
          "name": "stdout",
          "text": [
            "('João', 24.0)\n",
            "('João', 20.0)\n",
            "('João', 17.0)\n",
            "('João', 10.0)\n",
            "('João', 16.0)\n",
            "('João', 17.0)\n",
            "('João', 13.0)\n",
            "('João', 10.0)\n",
            "('João', 13.0)\n",
            "('João', 16.0)\n",
            "('João', 11.0)\n"
          ]
        }
      ]
    },
    {
      "cell_type": "markdown",
      "source": [
        "**WHERE**"
      ],
      "metadata": {
        "id": "ASoH82bcbhAb"
      }
    },
    {
      "cell_type": "code",
      "source": [
        "query2 = cursor.execute('SELECT * FROM Tabela1 WHERE Nome <> \"João\"').fetchall()\n",
        "\n",
        "for line in query2:\n",
        "  print(line)"
      ],
      "metadata": {
        "id": "xmoRMpWzbi86"
      },
      "execution_count": null,
      "outputs": []
    },
    {
      "cell_type": "code",
      "source": [
        "query3 = cursor.execute('SELECT * FROM Tabela1 WHERE Idade BETWEEN 10 AND 15').fetchall()\n",
        "\n",
        "for line in query3:\n",
        "  print(line)"
      ],
      "metadata": {
        "colab": {
          "base_uri": "https://localhost:8080/"
        },
        "id": "f4pMun9odo1y",
        "outputId": "09d7e280-b0d6-430a-f22f-291fd740416b"
      },
      "execution_count": null,
      "outputs": [
        {
          "output_type": "stream",
          "name": "stdout",
          "text": [
            "('01/01/2000', 'João', 10.0)\n",
            "('01/01/2000', 'João', 13.0)\n",
            "('01/01/2000', 'João', 10.0)\n",
            "('01/01/2000', 'João', 13.0)\n",
            "('01/01/2000', 'João', 11.0)\n"
          ]
        }
      ]
    },
    {
      "cell_type": "code",
      "source": [
        "query4 = cursor.execute('SELECT * FROM Tabela1 WHERE Nome LIKE \"%o\"').fetchall()\n",
        "\n",
        "for line in query4:\n",
        "  print(line)"
      ],
      "metadata": {
        "colab": {
          "base_uri": "https://localhost:8080/"
        },
        "id": "D8r7JCapeZdp",
        "outputId": "219c0b40-58c0-49e6-aca0-bf26fe436c7e"
      },
      "execution_count": null,
      "outputs": [
        {
          "output_type": "stream",
          "name": "stdout",
          "text": [
            "('01/01/2000', 'João', 24.0)\n",
            "('01/01/2000', 'João', 20.0)\n",
            "('01/01/2000', 'João', 17.0)\n",
            "('01/01/2000', 'João', 10.0)\n",
            "('01/01/2000', 'João', 16.0)\n",
            "('01/01/2000', 'João', 17.0)\n",
            "('01/01/2000', 'João', 13.0)\n",
            "('01/01/2000', 'João', 10.0)\n",
            "('01/01/2000', 'João', 13.0)\n",
            "('01/01/2000', 'João', 16.0)\n",
            "('01/01/2000', 'João', 11.0)\n"
          ]
        }
      ]
    },
    {
      "cell_type": "code",
      "source": [
        "query5 = cursor.execute('SELECT * FROM Tabela1 WHERE Idade IN(20, 10 , 16)').fetchall()\n",
        "\n",
        "for line in query5:\n",
        "  print(line)"
      ],
      "metadata": {
        "colab": {
          "base_uri": "https://localhost:8080/"
        },
        "id": "xz4I60TsfKGZ",
        "outputId": "451f93e1-cc5d-40ec-b8f3-eac07978d41a"
      },
      "execution_count": null,
      "outputs": [
        {
          "output_type": "stream",
          "name": "stdout",
          "text": [
            "('01/01/2000', 'João', 20.0)\n",
            "('01/01/2000', 'João', 10.0)\n",
            "('01/01/2000', 'João', 16.0)\n",
            "('01/01/2000', 'João', 10.0)\n",
            "('01/01/2000', 'João', 16.0)\n"
          ]
        }
      ]
    },
    {
      "cell_type": "code",
      "source": [
        "query6 = cursor.execute('SELECT * FROM Tabela1 WHERE NOT Idade = \"10\" AND NOT Idade = \"11\"').fetchall()\n",
        "\n",
        "for line in query6:\n",
        "  print(line)"
      ],
      "metadata": {
        "colab": {
          "base_uri": "https://localhost:8080/"
        },
        "id": "SnQd1EhnfztZ",
        "outputId": "c3aeaa8c-3635-409e-ab0a-ecefafd45ea4"
      },
      "execution_count": null,
      "outputs": [
        {
          "output_type": "stream",
          "name": "stdout",
          "text": [
            "('01/01/2000', 'João', 24.0)\n",
            "('01/01/2000', 'João', 20.0)\n",
            "('01/01/2000', 'João', 17.0)\n",
            "('01/01/2000', 'João', 16.0)\n",
            "('01/01/2000', 'João', 17.0)\n",
            "('01/01/2000', 'João', 13.0)\n",
            "('01/01/2000', 'João', 13.0)\n",
            "('01/01/2000', 'João', 16.0)\n"
          ]
        }
      ]
    },
    {
      "cell_type": "code",
      "source": [
        "query7 = cursor.execute('SELECT * FROM Tabela1 ORDER BY Idade DESC').fetchall()\n",
        "\n",
        "for line in query7:\n",
        "  print(line)"
      ],
      "metadata": {
        "colab": {
          "base_uri": "https://localhost:8080/"
        },
        "id": "6bAHNxEMgrBJ",
        "outputId": "d6e9733b-41bc-47f9-f60f-c9c362c46f8a"
      },
      "execution_count": null,
      "outputs": [
        {
          "output_type": "stream",
          "name": "stdout",
          "text": [
            "('01/01/2000', 'João', 24.0)\n",
            "('01/01/2000', 'João', 20.0)\n",
            "('01/01/2000', 'João', 17.0)\n",
            "('01/01/2000', 'João', 17.0)\n",
            "('01/01/2000', 'João', 16.0)\n",
            "('01/01/2000', 'João', 16.0)\n",
            "('01/01/2000', 'João', 13.0)\n",
            "('01/01/2000', 'João', 13.0)\n",
            "('01/01/2000', 'João', 11.0)\n",
            "('01/01/2000', 'João', 10.0)\n",
            "('01/01/2000', 'João', 10.0)\n"
          ]
        }
      ]
    },
    {
      "cell_type": "markdown",
      "source": [
        "**UPDATE**"
      ],
      "metadata": {
        "id": "7EaQAoMMjhGg"
      }
    },
    {
      "cell_type": "code",
      "source": [
        "cursor.execute('INSERT INTO Tabela1 VALUES (\"-\", null, 30 ) ')\n",
        "\n",
        "cursor.execute('INSERT INTO Tabela1 VALUES (\"-\", \"José\", 30 ) ')"
      ],
      "metadata": {
        "colab": {
          "base_uri": "https://localhost:8080/"
        },
        "id": "2y9q9ak0jjAX",
        "outputId": "98fce606-e885-4820-e173-a7d8534fb106"
      },
      "execution_count": null,
      "outputs": [
        {
          "output_type": "execute_result",
          "data": {
            "text/plain": [
              "<sqlite3.Cursor at 0x7d4eae468840>"
            ]
          },
          "metadata": {},
          "execution_count": 28
        }
      ]
    },
    {
      "cell_type": "code",
      "source": [
        "query8 = cursor.execute('SELECT * FROM Tabela1').fetchall()\n",
        "\n",
        "for line in query8:\n",
        "  print(line)"
      ],
      "metadata": {
        "colab": {
          "base_uri": "https://localhost:8080/"
        },
        "id": "zMKNNE7Ak1zy",
        "outputId": "a2c50c90-6152-4de6-c26f-f917d59460df"
      },
      "execution_count": null,
      "outputs": [
        {
          "output_type": "stream",
          "name": "stdout",
          "text": [
            "('01/01/2000', 'João', 24.0)\n",
            "('01/01/2000', 'João', 20.0)\n",
            "('01/01/2000', 'João', 17.0)\n",
            "('01/01/2000', 'João', 10.0)\n",
            "('01/01/2000', 'João', 16.0)\n",
            "('01/01/2000', 'João', 17.0)\n",
            "('01/01/2000', 'João', 13.0)\n",
            "('01/01/2000', 'João', 10.0)\n",
            "('01/01/2000', 'João', 13.0)\n",
            "('01/01/2000', 'João', 16.0)\n",
            "('01/01/2000', 'João', 11.0)\n",
            "('-', None, 30.0)\n",
            "('-', None, 30.0)\n",
            "('-', 'José', 30.0)\n"
          ]
        }
      ]
    },
    {
      "cell_type": "code",
      "source": [
        "query9 = cursor.execute('UPDATE Tabela1 SET Idade = 30 WHERE Nome IS NULL').fetchall()\n",
        "\n",
        "query10 = cursor.execute('SELECT * FROM Tabela1').fetchall()\n",
        "\n",
        "for line in query10:\n",
        "  print(line)"
      ],
      "metadata": {
        "colab": {
          "base_uri": "https://localhost:8080/"
        },
        "id": "K8AyN7makcXJ",
        "outputId": "1eca8597-33e7-4880-9c56-c477345518bc"
      },
      "execution_count": null,
      "outputs": [
        {
          "output_type": "stream",
          "name": "stdout",
          "text": [
            "('01/01/2000', 'João', 24.0)\n",
            "('01/01/2000', 'João', 20.0)\n",
            "('01/01/2000', 'João', 17.0)\n",
            "('01/01/2000', 'João', 10.0)\n",
            "('01/01/2000', 'João', 16.0)\n",
            "('01/01/2000', 'João', 17.0)\n",
            "('01/01/2000', 'João', 13.0)\n",
            "('01/01/2000', 'João', 10.0)\n",
            "('01/01/2000', 'João', 13.0)\n",
            "('01/01/2000', 'João', 16.0)\n",
            "('01/01/2000', 'João', 11.0)\n",
            "('-', None, 30.0)\n",
            "('-', None, 30.0)\n",
            "('-', 'José', 30.0)\n"
          ]
        }
      ]
    },
    {
      "cell_type": "code",
      "source": [
        "query11 = cursor.execute('UPDATE Tabela1 SET Nome = \"Pedro\" WHERE Idade = 30').fetchall()\n",
        "\n",
        "query12 = cursor.execute('SELECT * FROM Tabela1').fetchall()\n",
        "\n",
        "for line in query12:\n",
        "  print(line)"
      ],
      "metadata": {
        "colab": {
          "base_uri": "https://localhost:8080/"
        },
        "id": "W2di4_TTlQ83",
        "outputId": "2a8a760e-c881-42bc-dc8c-2ff6558ac116"
      },
      "execution_count": null,
      "outputs": [
        {
          "output_type": "stream",
          "name": "stdout",
          "text": [
            "('01/01/2000', 'João', 24.0)\n",
            "('01/01/2000', 'João', 20.0)\n",
            "('01/01/2000', 'João', 17.0)\n",
            "('01/01/2000', 'João', 10.0)\n",
            "('01/01/2000', 'João', 16.0)\n",
            "('01/01/2000', 'João', 17.0)\n",
            "('01/01/2000', 'João', 13.0)\n",
            "('01/01/2000', 'João', 10.0)\n",
            "('01/01/2000', 'João', 13.0)\n",
            "('01/01/2000', 'João', 16.0)\n",
            "('01/01/2000', 'João', 11.0)\n",
            "('-', 'Pedro', 30.0)\n",
            "('-', 'Pedro', 30.0)\n",
            "('-', 'Pedro', 30.0)\n"
          ]
        }
      ]
    },
    {
      "cell_type": "markdown",
      "source": [
        "**DELETE**"
      ],
      "metadata": {
        "id": "GO0piSPtoXTd"
      }
    },
    {
      "cell_type": "code",
      "source": [
        "query13 = cursor.execute('DELETE FROM Tabela1 WHERE Nome = \"João\" AND Idade = 10').fetchall()\n",
        "\n",
        "query14 = cursor.execute('SELECT * FROM Tabela1').fetchall()\n",
        "\n",
        "for line in query14:\n",
        "  print(line)"
      ],
      "metadata": {
        "colab": {
          "base_uri": "https://localhost:8080/"
        },
        "id": "XYyC9ZN6m5tu",
        "outputId": "41a64215-4178-4c59-90b0-7b031b57ce8f"
      },
      "execution_count": null,
      "outputs": [
        {
          "output_type": "stream",
          "name": "stdout",
          "text": [
            "('01/01/2000', 'João', 24.0)\n",
            "('01/01/2000', 'João', 20.0)\n",
            "('01/01/2000', 'João', 17.0)\n",
            "('01/01/2000', 'João', 16.0)\n",
            "('01/01/2000', 'João', 17.0)\n",
            "('01/01/2000', 'João', 13.0)\n",
            "('01/01/2000', 'João', 13.0)\n",
            "('01/01/2000', 'João', 16.0)\n",
            "('01/01/2000', 'João', 11.0)\n",
            "('-', 'Pedro', 30.0)\n",
            "('-', 'Pedro', 30.0)\n",
            "('-', 'Pedro', 30.0)\n"
          ]
        }
      ]
    },
    {
      "cell_type": "markdown",
      "source": [
        "**SELECT TOP**"
      ],
      "metadata": {
        "id": "a7oF1YV-oa4W"
      }
    },
    {
      "cell_type": "code",
      "source": [
        "query15 = cursor.execute('SELECT * FROM Tabela1 LIMIT 3').fetchall()\n",
        "\n",
        "for line in query15:\n",
        "  print(line)"
      ],
      "metadata": {
        "colab": {
          "base_uri": "https://localhost:8080/"
        },
        "id": "TTxw5JRjnlX2",
        "outputId": "5750c7b8-17f5-4418-a685-65c075c92668"
      },
      "execution_count": null,
      "outputs": [
        {
          "output_type": "stream",
          "name": "stdout",
          "text": [
            "('01/01/2000', 'João', 24.0)\n",
            "('01/01/2000', 'João', 20.0)\n",
            "('01/01/2000', 'João', 17.0)\n"
          ]
        }
      ]
    },
    {
      "cell_type": "markdown",
      "source": [
        "**COUNT, AVG**"
      ],
      "metadata": {
        "id": "UuygtikbofhF"
      }
    },
    {
      "cell_type": "code",
      "source": [
        "query16 = cursor.execute('SELECT AVG(Idade) FROM Tabela1 WHERE Nome <> \"Pedro\"').fetchall()\n",
        "\n",
        "print(query16)"
      ],
      "metadata": {
        "colab": {
          "base_uri": "https://localhost:8080/"
        },
        "id": "nCcvjJJ0oUCW",
        "outputId": "4c541a89-0d6e-4f30-f10b-545715c3b5fa"
      },
      "execution_count": null,
      "outputs": [
        {
          "output_type": "stream",
          "name": "stdout",
          "text": [
            "[(16.333333333333332,)]\n"
          ]
        }
      ]
    },
    {
      "cell_type": "markdown",
      "source": [
        "**INNER JOIN**"
      ],
      "metadata": {
        "id": "X6uja1psqXvV"
      }
    },
    {
      "cell_type": "code",
      "source": [
        "query17 = cursor.execute('''\n",
        "  CREATE TABLE Vendas (Id real, Valor real)\n",
        "\n",
        "''').fetchall()\n",
        "conexao.commit()"
      ],
      "metadata": {
        "id": "LahL6xBtqagN"
      },
      "execution_count": null,
      "outputs": []
    },
    {
      "cell_type": "code",
      "source": [
        "query18 = cursor.execute('''\n",
        "  CREATE TABLE Caddastro_Vendedor (Id real, Nome text)\n",
        "\n",
        "''').fetchall()\n",
        "conexao.commit()"
      ],
      "metadata": {
        "id": "Aji8W7Qvqwsd"
      },
      "execution_count": null,
      "outputs": []
    },
    {
      "cell_type": "code",
      "source": [
        "cursor.execute('INSERT INTO Vendas VALUES (01, 500) ')\n",
        "cursor.execute('INSERT INTO Vendas VALUES (02, 800) ')\n",
        "cursor.execute('INSERT INTO Vendas VALUES (01, 100) ')\n",
        "cursor.execute('INSERT INTO Vendas VALUES (01, 800) ')\n",
        "cursor.execute('INSERT INTO Vendas VALUES (01, 700) ')\n",
        "cursor.execute('INSERT INTO Vendas VALUES (02, 200) ')"
      ],
      "metadata": {
        "colab": {
          "base_uri": "https://localhost:8080/"
        },
        "id": "LPZtCm7NrAld",
        "outputId": "06cb1e18-dbba-4c05-ef20-fb285d659b9e"
      },
      "execution_count": null,
      "outputs": [
        {
          "output_type": "execute_result",
          "data": {
            "text/plain": [
              "<sqlite3.Cursor at 0x7d4eae468840>"
            ]
          },
          "metadata": {},
          "execution_count": 43
        }
      ]
    },
    {
      "cell_type": "code",
      "source": [
        "cursor.execute('INSERT INTO Caddastro_Vendedor VALUES (01, \"Pedro\") ')\n",
        "cursor.execute('INSERT INTO Caddastro_Vendedor VALUES (02, \"Matheus\") ')"
      ],
      "metadata": {
        "colab": {
          "base_uri": "https://localhost:8080/"
        },
        "id": "y9mgLjkFrRu1",
        "outputId": "b037ad50-9223-47ad-be3f-4eebbf3960c1"
      },
      "execution_count": null,
      "outputs": [
        {
          "output_type": "execute_result",
          "data": {
            "text/plain": [
              "<sqlite3.Cursor at 0x7d4eae468840>"
            ]
          },
          "metadata": {},
          "execution_count": 44
        }
      ]
    },
    {
      "cell_type": "code",
      "source": [
        "query19 = cursor.execute('SELECT * FROM Vendas').fetchall()\n",
        "\n",
        "for line in query19:\n",
        "  print(line)"
      ],
      "metadata": {
        "colab": {
          "base_uri": "https://localhost:8080/"
        },
        "id": "7g9TzIitrc5k",
        "outputId": "c307ebb0-c983-4f78-8881-d846af8a4411"
      },
      "execution_count": null,
      "outputs": [
        {
          "output_type": "stream",
          "name": "stdout",
          "text": [
            "(1.0, 500.0)\n",
            "(2.0, 800.0)\n",
            "(1.0, 100.0)\n",
            "(1.0, 800.0)\n",
            "(1.0, 700.0)\n",
            "(2.0, 200.0)\n"
          ]
        }
      ]
    },
    {
      "cell_type": "code",
      "source": [
        "query20 = cursor.execute('''\n",
        "  SELECT * FROM Vendas\n",
        "  INNER JOIN Caddastro_Vendedor\n",
        "  ON Vendas.Id = Caddastro_Vendedor.Id\n",
        "''').fetchall()\n",
        "\n",
        "for line in query20:\n",
        "  print(line)"
      ],
      "metadata": {
        "colab": {
          "base_uri": "https://localhost:8080/"
        },
        "id": "SuxJsHYbr5VV",
        "outputId": "50186557-6f33-4f1f-e919-1b0414731d77"
      },
      "execution_count": null,
      "outputs": [
        {
          "output_type": "stream",
          "name": "stdout",
          "text": [
            "(1.0, 500.0, 1.0, 'Pedro')\n",
            "(2.0, 800.0, 2.0, 'Matheus')\n",
            "(1.0, 100.0, 1.0, 'Pedro')\n",
            "(1.0, 800.0, 1.0, 'Pedro')\n",
            "(1.0, 700.0, 1.0, 'Pedro')\n",
            "(2.0, 200.0, 2.0, 'Matheus')\n"
          ]
        }
      ]
    },
    {
      "cell_type": "markdown",
      "source": [
        "**UNION**"
      ],
      "metadata": {
        "id": "haCprsr-tlzv"
      }
    },
    {
      "cell_type": "code",
      "source": [
        "query21 = cursor.execute('''\n",
        "  CREATE TABLE Tabela_2 (Id real, Nome text)\n",
        "''').fetchall()\n",
        "conexao.commit()\n",
        "\n",
        "query22 = cursor.execute('''\n",
        "  CREATE TABLE Tabela_3 (Id real, Nome text)\n",
        "''').fetchall()\n",
        "conexao.commit()"
      ],
      "metadata": {
        "id": "TPxMadbrtnil"
      },
      "execution_count": null,
      "outputs": []
    },
    {
      "cell_type": "code",
      "source": [
        "cursor.execute('INSERT INTO Tabela_2 VALUES (\"001\", \"Maria\")')\n",
        "cursor.execute('INSERT INTO Tabela_2 VALUES (\"004\", \"Ana\")')\n",
        "\n",
        "cursor.execute('INSERT INTO Tabela_3 VALUES (\"005\", \"Bruno\")')\n",
        "cursor.execute('INSERT INTO Tabela_3 VALUES (\"002\", \"Paulo\")')"
      ],
      "metadata": {
        "colab": {
          "base_uri": "https://localhost:8080/"
        },
        "id": "0Q2xXWHzt6LM",
        "outputId": "1ea29f23-49d6-42ce-a7cd-7610994b58c9"
      },
      "execution_count": null,
      "outputs": [
        {
          "output_type": "execute_result",
          "data": {
            "text/plain": [
              "<sqlite3.Cursor at 0x7d4eae468840>"
            ]
          },
          "metadata": {},
          "execution_count": 49
        }
      ]
    },
    {
      "cell_type": "code",
      "source": [
        "query23 = cursor.execute('''\n",
        "  SELECT * FROM Tabela_2\n",
        "  UNION ALL\n",
        "  SELECT * FROM Tabela_3\n",
        "  ORDER BY Id ASC\n",
        "''').fetchall()\n",
        "\n",
        "for line in query23:\n",
        "  print(line)"
      ],
      "metadata": {
        "colab": {
          "base_uri": "https://localhost:8080/"
        },
        "id": "vRExO6USuTCc",
        "outputId": "bc48e285-7f40-4e18-f6d2-fecb01139c47"
      },
      "execution_count": null,
      "outputs": [
        {
          "output_type": "stream",
          "name": "stdout",
          "text": [
            "(1.0, 'Maria')\n",
            "(2.0, 'Paulo')\n",
            "(4.0, 'Ana')\n",
            "(5.0, 'Bruno')\n"
          ]
        }
      ]
    },
    {
      "cell_type": "markdown",
      "source": [
        "**GROUP BY**"
      ],
      "metadata": {
        "id": "eq0oOms1vZ68"
      }
    },
    {
      "cell_type": "code",
      "source": [
        "query24 = cursor.execute('''\n",
        "  SELECT SUM(Idade) FROM Tabela1\n",
        "  GROUP BY Nome\n",
        "''').fetchall()\n",
        "\n",
        "for line in query24:\n",
        "  print(line)"
      ],
      "metadata": {
        "colab": {
          "base_uri": "https://localhost:8080/"
        },
        "id": "OPhIcy3bvcub",
        "outputId": "f3d02e53-0d9b-486b-c1e5-dbd781dc34ea"
      },
      "execution_count": null,
      "outputs": [
        {
          "output_type": "stream",
          "name": "stdout",
          "text": [
            "(147.0,)\n",
            "(90.0,)\n"
          ]
        }
      ]
    }
  ]
}